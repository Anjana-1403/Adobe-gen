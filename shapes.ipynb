{
 "cells": [
  {
   "cell_type": "code",
   "execution_count": 1,
   "metadata": {},
   "outputs": [],
   "source": [
    "import cv2\n",
    "import numpy as np\n"
   ]
  },
  {
   "cell_type": "code",
   "execution_count": 2,
   "metadata": {},
   "outputs": [],
   "source": [
    "# Load the image\n",
    "image = cv2.imread(r'D:\\Adobe-gen\\Screenshot 2024-07-31 224237.png', cv2.IMREAD_GRAYSCALE)\n",
    "\n",
    "# Apply Gaussian blur to reduce noise\n",
    "blurred = cv2.GaussianBlur(image, (5, 5), 0)\n",
    "\n",
    "# Detect edges using Canny edge detection\n",
    "edges = cv2.Canny(blurred, 50, 150)\n"
   ]
  },
  {
   "cell_type": "code",
   "execution_count": 3,
   "metadata": {},
   "outputs": [
    {
     "data": {
      "text/plain": [
       "array([[  0,   0,   0, ...,   0,   0,   0],\n",
       "       [  0,   0,   0, ...,   0,   0,   0],\n",
       "       [  0,   0,   0, ...,   0,   0,   0],\n",
       "       ...,\n",
       "       [  0,   0, 255, ...,   0,   0,   0],\n",
       "       [  0,   0, 255, ...,   0,   0,   0],\n",
       "       [  0,   0,   0, ...,   0,   0,   0]], dtype=uint8)"
      ]
     },
     "execution_count": 3,
     "metadata": {},
     "output_type": "execute_result"
    }
   ],
   "source": [
    "# Find contours in the edge-detected image\n",
    "contours, _ = cv2.findContours(edges, cv2.RETR_EXTERNAL, cv2.CHAIN_APPROX_SIMPLE)\n",
    "\n",
    "# Create an empty image to draw the contours\n",
    "contour_image = np.zeros_like(image)\n",
    "\n",
    "# Draw the detected contours\n",
    "cv2.drawContours(contour_image, contours, -1, (255, 255, 255), 1)\n",
    "\n"
   ]
  },
  {
   "cell_type": "code",
   "execution_count": 5,
   "metadata": {},
   "outputs": [],
   "source": [
    "# Fit and complete each contour\n",
    "completed_image = np.zeros_like(image)\n",
    "\n",
    "for contour in contours:\n",
    "    # Get the x and y coordinates of the contour points\n",
    "    contour = contour[:, 0, :]\n",
    "    x = contour[:, 0]\n",
    "    y = contour[:, 1]\n",
    "    \n",
    "    # Sort the points by x-coordinate\n",
    "    sorted_indices = np.argsort(x)\n",
    "    x_sorted = x[sorted_indices]\n",
    "    y_sorted = y[sorted_indices]\n",
    "\n",
    "    # Fit a polynomial curve (e.g., degree 2)\n",
    "    poly_coefficients = np.polyfit(x_sorted, y_sorted, deg=2)\n",
    "    polynomial = np.poly1d(poly_coefficients)\n",
    "\n",
    "    # Generate x values to predict y values\n",
    "    x_new = np.linspace(x_sorted.min(), x_sorted.max(), num=100)\n",
    "    y_new = polynomial(x_new).astype(int)\n",
    "\n",
    "    # Draw the fitted curve on the image\n",
    "    for i in range(len(x_new) - 1):\n",
    "        pt1 = (int(x_new[i]), int(y_new[i]))\n",
    "        pt2 = (int(x_new[i + 1]), int(y_new[i + 1]))\n",
    "        cv2.line(completed_image, pt1, pt2, 255, 1)\n",
    "\n",
    "cv2.imshow(\"Completed Curves\", completed_image)\n",
    "\n",
    "\n",
    "\n"
   ]
  },
  {
   "cell_type": "code",
   "execution_count": 6,
   "metadata": {},
   "outputs": [],
   "source": [
    "# Combine the original and completed curves\n",
    "combined_image = cv2.addWeighted(contour_image, 0.5, completed_image, 0.5, 0)\n",
    "\n",
    "cv2.imshow(\"Combined Curves\", combined_image)\n",
    "\n"
   ]
  },
  {
   "cell_type": "code",
   "execution_count": 7,
   "metadata": {},
   "outputs": [],
   "source": [
    "import cv2\n",
    "import numpy as np\n",
    "from scipy.interpolate import splprep, splev\n",
    "\n"
   ]
  },
  {
   "cell_type": "code",
   "execution_count": 8,
   "metadata": {},
   "outputs": [],
   "source": [
    "image = cv2.imread(r'D:\\Adobe-gen\\Screenshot 2024-07-31 224237.png', cv2.IMREAD_GRAYSCALE)"
   ]
  },
  {
   "cell_type": "code",
   "execution_count": 9,
   "metadata": {},
   "outputs": [],
   "source": [
    "\n",
    "\n",
    "# Apply Gaussian blur to reduce noise\n",
    "blurred = cv2.GaussianBlur(image, (5, 5), 0)\n",
    "\n",
    "# Detect edges using Canny edge detection\n",
    "edges = cv2.Canny(blurred, 50, 150)\n",
    "\n",
    "# Find contours in the edge-detected image\n",
    "contours, _ = cv2.findContours(edges, cv2.RETR_EXTERNAL, cv2.CHAIN_APPROX_SIMPLE)\n",
    "\n",
    "# Create an empty image to draw the contours\n",
    "contour_image = np.zeros_like(image)\n",
    "\n",
    "# Draw the detected contours\n",
    "cv2.drawContours(contour_image, contours, -1, (255, 255, 255), 1)\n",
    "\n",
    "# Create an empty image to draw the completed curves\n",
    "completed_image = np.zeros_like(image)\n",
    "\n",
    "for contour in contours:\n",
    "    if len(contour) < 5:\n",
    "        # Skip contours that are too small to fit a spline\n",
    "        continue\n",
    "\n",
    "    # Get the x and y coordinates of the contour points\n",
    "    contour = contour[:, 0, :]\n",
    "    x = contour[:, 0]\n",
    "    y = contour[:, 1]\n",
    "\n",
    "    try:\n",
    "        # Perform spline interpolation\n",
    "        tck, u = splprep([x, y], s=0)\n",
    "        u_new = np.linspace(u.min(), u.max(), 100)\n",
    "        x_new, y_new = splev(u_new, tck)\n",
    "\n",
    "        # Draw the fitted spline on the image\n",
    "        for i in range(len(x_new) - 1):\n",
    "            pt1 = (int(x_new[i]), int(y_new[i]))\n",
    "            pt2 = (int(x_new[i + 1]), int(y_new[i + 1]))\n",
    "            cv2.line(completed_image, pt1, pt2, 255, 1)\n",
    "    except Exception as e:\n",
    "        print(f\"Error in spline fitting: {e}\")\n",
    "        continue\n",
    "\n",
    "# Combine the original and completed curves\n",
    "combined_image = cv2.addWeighted(contour_image, 0.5, completed_image, 0.5, 0)\n",
    "\n",
    "cv2.imshow(\"Completed Curves\", combined_image)\n",
    "cv2.waitKey(0)\n",
    "cv2.destroyAllWindows()\n"
   ]
  }
 ],
 "metadata": {
  "kernelspec": {
   "display_name": "Python 3",
   "language": "python",
   "name": "python3"
  },
  "language_info": {
   "codemirror_mode": {
    "name": "ipython",
    "version": 3
   },
   "file_extension": ".py",
   "mimetype": "text/x-python",
   "name": "python",
   "nbconvert_exporter": "python",
   "pygments_lexer": "ipython3",
   "version": "3.10.11"
  }
 },
 "nbformat": 4,
 "nbformat_minor": 2
}
