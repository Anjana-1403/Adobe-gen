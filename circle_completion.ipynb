{
 "cells": [
  {
   "cell_type": "code",
   "execution_count": 34,
   "metadata": {},
   "outputs": [],
   "source": [
    "import cv2\n",
    "import numpy as np\n",
    "\n",
    "def complete_circle(image):\n",
    "    if len(image.shape) == 3:\n",
    "        gray = cv2.cvtColor(image, cv2.COLOR_BGR2GRAY)\n",
    "    else:\n",
    "        gray = image\n",
    "\n",
    "    blurred = cv2.GaussianBlur(gray, (5, 5), 0)\n",
    "\n",
    "    edges = cv2.Canny(blurred, 50, 150)\n",
    "\n",
    "    contours, _ = cv2.findContours(edges, cv2.RETR_EXTERNAL, cv2.CHAIN_APPROX_SIMPLE)\n",
    "\n",
    "    completed_image = np.zeros_like(gray)\n",
    "\n",
    "    for contour in contours:\n",
    "        if len(contour) < 5: \n",
    "            continue\n",
    "\n",
    "        (x, y), radius = cv2.minEnclosingCircle(contour)\n",
    "        \n",
    "        center = (int(x), int(y))\n",
    "        radius = int(radius)\n",
    "        \n",
    "        cv2.circle(completed_image, center, radius, 255, 1)\n",
    "\n",
    "        cv2.drawContours(completed_image, [contour], -1, 255, 1)\n",
    "\n",
    "    return completed_image\n",
    "\n",
    "image = cv2.imread(r\"C:\\Users\\ANJANA\\OneDrive\\Pictures\\Screenshots\\Screenshot 2024-07-31 224237.png\", cv2.IMREAD_GRAYSCALE)\n",
    "\n",
    "result = complete_circle(image)\n",
    "\n",
    "cv2.imshow(\"Completed Shape\", result)\n",
    "cv2.waitKey(0)\n",
    "cv2.destroyAllWindows()\n"
   ]
  }
 ],
 "metadata": {
  "kernelspec": {
   "display_name": "anjana",
   "language": "python",
   "name": "python3"
  },
  "language_info": {
   "codemirror_mode": {
    "name": "ipython",
    "version": 3
   },
   "file_extension": ".py",
   "mimetype": "text/x-python",
   "name": "python",
   "nbconvert_exporter": "python",
   "pygments_lexer": "ipython3",
   "version": "3.10.11"
  }
 },
 "nbformat": 4,
 "nbformat_minor": 2
}
