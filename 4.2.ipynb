{
 "cells": [
  {
   "cell_type": "code",
   "execution_count": null,
   "metadata": {},
   "outputs": [],
   "source": [
    "import numpy as np\n",
    "from PIL import Image\n",
    "from svglib.svglib import svg2rlg\n",
    "from reportlab.graphics import renderPM\n",
    "import io\n",
    "\n",
    "def rasterize_svg(svg_content, width, height):\n",
    "    \"\"\"Rasterize SVG content to a numpy array.\"\"\"\n",
    "    drawing = svg2rlg(io.StringIO(svg_content))\n",
    "    img_data = renderPM.drawToString(drawing, fmt=\"PNG\", dpi=72*(width/drawing.width))\n",
    "    img = Image.open(io.BytesIO(img_data))\n",
    "    img = img.resize((width, height), Image.LANCZOS)\n",
    "    return np.array(img)\n",
    "\n",
    "def evaluate_occlusion(solution_svg, ground_truth_svg, width=1024, height=1024):\n",
    "    \"\"\"Evaluate occlusion by comparing rasterized SVGs.\"\"\"\n",
    "    # Rasterize both SVGs\n",
    "    solution_raster = rasterize_svg(solution_svg, width, height)\n",
    "    ground_truth_raster = rasterize_svg(ground_truth_svg, width, height)\n",
    "    \n",
    "    # Convert to binary (assuming white background, any non-white pixel is part of the shape)\n",
    "    solution_binary = (solution_raster[:,:,:3] != 255).any(axis=2)\n",
    "    ground_truth_binary = (ground_truth_raster[:,:,:3] != 255).any(axis=2)\n",
    "    \n",
    "    # Calculate pixel-wise agreement\n",
    "    agreement = np.sum(solution_binary == ground_truth_binary)\n",
    "    total_pixels = width * height\n",
    "    \n",
    "    # Calculate accuracy\n",
    "    accuracy = agreement / total_pixels\n",
    "    \n",
    "    # Calculate IoU (Intersection over Union)\n",
    "    intersection = np.sum(np.logical_and(solution_binary, ground_truth_binary))\n",
    "    union = np.sum(np.logical_or(solution_binary, ground_truth_binary))\n",
    "    iou = intersection / union if union > 0 else 0\n",
    "    \n",
    "    return {\n",
    "        'accuracy': accuracy,\n",
    "        'iou': iou\n",
    "    }\n",
    "\n",
    "# Example usage\n",
    "solution_svg = \"\"\"\n",
    "<svg width=\"100\" height=\"100\">\n",
    "    <rect x=\"10\" y=\"10\" width=\"80\" height=\"80\" fill=\"black\" />\n",
    "</svg>\n",
    "\"\"\"\n",
    "\n",
    "ground_truth_svg = \"\"\"\n",
    "<svg width=\"100\" height=\"100\">\n",
    "    <rect x=\"20\" y=\"20\" width=\"60\" height=\"60\" fill=\"black\" />\n",
    "</svg>\n",
    "\"\"\"\n",
    "\n",
    "result = evaluate_occlusion(solution_svg, ground_truth_svg)\n",
    "print(f\"Accuracy: {result['accuracy']:.4f}\")\n",
    "print(f\"IoU: {result['iou']:.4f}\")"
   ]
  },
  {
   "cell_type": "code",
   "execution_count": null,
   "metadata": {},
   "outputs": [],
   "source": []
  }
 ],
 "metadata": {
  "kernelspec": {
   "display_name": "anjana",
   "language": "python",
   "name": "python3"
  },
  "language_info": {
   "codemirror_mode": {
    "name": "ipython",
    "version": 3
   },
   "file_extension": ".py",
   "mimetype": "text/x-python",
   "name": "python",
   "nbconvert_exporter": "python",
   "pygments_lexer": "ipython3",
   "version": "3.10.11"
  }
 },
 "nbformat": 4,
 "nbformat_minor": 2
}
